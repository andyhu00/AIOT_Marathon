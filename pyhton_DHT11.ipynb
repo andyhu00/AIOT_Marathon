{
 "cells": [
  {
   "cell_type": "markdown",
   "metadata": {},
   "source": [
    "### 作業1：\n",
    "#### 練習將 DHT11 接於 GPIO 27 接腳，並且更改軟體的接腳設定值，重新執行範例程式，驗證在不同的接腳上安裝 DHT11，程式一樣可以正確地讀出數值"
   ]
  },
  {
   "cell_type": "code",
   "execution_count": null,
   "metadata": {},
   "outputs": [],
   "source": [
    "# Ans 1：\n",
    "$ sudo apt install python3-pip  #安裝 pip3 模組\n",
    "$ sudo pip3 install Adafruit_DHT # 安裝 Adafruit_DHT 模組\n",
    "\n",
    "# 在 python code，import Adafruit_DHT 後，會出現以下error："
   ]
  },
  {
   "cell_type": "markdown",
   "metadata": {},
   "source": [
    "![DHT_import_error](img/DHT_import_error.png)"
   ]
  },
  {
   "cell_type": "code",
   "execution_count": null,
   "metadata": {},
   "outputs": [],
   "source": [
    "# Ans 2：\n",
    "出現 error 的原因為：Adafruit_DHT 不能辨識 Raspberry Pi 4b CPU，\n",
    "解決方式：\n",
    "(1)\tcd /usr/local/lib/python3.7/dist-packages/Adafruit_DHT\n",
    "(2)\tsudo vim platform_detect.py\n",
    "(3) 在最後一個else: 前加入以下的程式碼：\n",
    "elif match.group(1) == 'BCM2711': \n",
    "# Pi 4b \n",
    "return 3"
   ]
  },
  {
   "cell_type": "markdown",
   "metadata": {},
   "source": [
    "![DHT_modified](img/DHT_modified.png)"
   ]
  },
  {
   "cell_type": "code",
   "execution_count": null,
   "metadata": {},
   "outputs": [],
   "source": [
    "# Ans 3：\n",
    "Python code：使用 DHT11 sensor\n",
    "# 匯入 Adafruit_DHT 模組\n",
    "import Adafruit_DHT\n",
    "DHT_SENSOR = Adafruit_DHT.DHT11 # 感測器為 DHT11\n",
    "DHT_PIN = 27 # 設定 GPIO 27 為讀取 data 的接腳\n",
    "while True :\n",
    "    humi, temp = Adafruit_DHT.read_retry(DHT_SENSOR, DHT_PIN)\n",
    "    if (humi is not None) and (temp is not None) :\n",
    "        print('Temp={:.2f}_C Humidity={:.2f}_%'.format(temp, humi))\n",
    "    else :\n",
    "        print('Fail to retrieve data from humidity_temp sensor')"
   ]
  },
  {
   "cell_type": "markdown",
   "metadata": {},
   "source": [
    "![DHT11_reader1](img/DHT11_reader1.png)"
   ]
  },
  {
   "cell_type": "markdown",
   "metadata": {},
   "source": [
    "### Ans 4：\n",
    "- 更改軟體的接腳設定值，重新執行範例程式，驗證在不同的接腳上安裝 DHT11，程式一樣可以正確地讀出數值\n",
    "- 使用 DHT11 讀出的數值，比使用 DHT22 會得到比較大的誤差"
   ]
  },
  {
   "cell_type": "markdown",
   "metadata": {},
   "source": [
    "![DHT11_reader2](img/DHT11_reader2.png)"
   ]
  },
  {
   "cell_type": "markdown",
   "metadata": {},
   "source": [
    "### 作業2：\n",
    "#### 觀察 RPi.GPIO 的程式碼，與 GPIOZero 程式碼對於繼電器控制上寫法的不同，如果我們要設定 GPIO 13, 19 二個接腳控制一個二路繼電器，練習實作一個 GPIOZero 二路繼電器的控制程式"
   ]
  },
  {
   "cell_type": "code",
   "execution_count": null,
   "metadata": {},
   "outputs": [],
   "source": [
    "# Ans 1：\n",
    "# 匯入RPi.GPIO套件\n",
    "import RPi.GPIO as GPIO\n",
    "import time\n",
    "\n",
    "# 使用rpi板子的GPIO編號\n",
    "GPIO.setmode(GPIO.BCM)\n",
    "\n",
    "# 將 GPIO_13、GPIO_19 設為輸出模式\n",
    "relay_pins = [13, 19]\n",
    "GPIO.setup(relay_pins, GPIO.OUT) # default output=LOW\n",
    "GPIO.output(relay_pins, 1)\n",
    "\n",
    "# while loop迴圈，讓relay重複動作\n",
    "try :\n",
    "    while True ：\n",
    "    for pin in relay_pins :\n",
    "        GPIO.output(pin, 0)\n",
    "        time.sleep(3)\n",
    "    for pin in relay_pins :\n",
    "        GPIO.output(pin, 1)\n",
    "        time.sleep(3)\n",
    "except KeyboardInterrupt :\n",
    "    pass\n",
    "# 清除使用的 GPIO 狀態\n",
    "GPIO.cleanup()"
   ]
  },
  {
   "cell_type": "code",
   "execution_count": null,
   "metadata": {},
   "outputs": [],
   "source": [
    "# Ans 2：\n",
    "# 匯入gpiozero套件套件\n",
    "import gpiozero\n",
    "import time, sys\n",
    "\n",
    "# 將 GPIO_13、GPIO_19 設為 OutputDevice\n",
    "# 初始狀態為 relay 不導通\n",
    "print('initail relay 不導通')\n",
    "relay_pin1 = 13\n",
    "relay_pin2 = 19\n",
    "relay1 = gpiozero.OutputDevice(relay_pin1, active_high=True, initial_value=False)\n",
    "relay2 = gpiozero.OutputDevice(relay_pin2, active_high=True, initial_value=False)\n",
    "\n",
    "relays = [relay1, relay2]\n",
    "\n",
    "# while loop迴圈，讓relay重複動作\n",
    "print('relay 先 on， 再 off')\n",
    "try :\n",
    "    while True :\n",
    "        for relay_ in relays :\n",
    "            relay_.on()\n",
    "            time.sleep(3)\n",
    "        for relay_ in relays :\n",
    "            relay_.off()\n",
    "            time.sleep(3)\n",
    "except KeyboardInterrupt :\n",
    "    print('程式停止')\n",
    "    sys.exit() "
   ]
  },
  {
   "cell_type": "markdown",
   "metadata": {},
   "source": [
    "### 作業3：\n",
    "#### 將作業 1 與作業 2 結合，設定程式在溫度 10 度以上到 20 度之間，控制 GPIO19，溫度 20 度到 30 度之間，控制 GPIO13，達成在不同的溫度區間時，控制不同的繼電器的需求"
   ]
  },
  {
   "cell_type": "code",
   "execution_count": null,
   "metadata": {},
   "outputs": [],
   "source": [
    "# 匯入gpiozero套件套件\n",
    "import gpiozero\n",
    "import time, sys\n",
    "\n",
    "# 匯入 Adafruit_DHT 模組\n",
    "import Adafruit_DHT\n",
    "\n",
    "DHT_SENSOR = Adafruit_DHT.DHT11 # 感測器為 DHT11\n",
    "DHT_PIN = 27 # 設定 GPIO 27 為讀取 data 的接腳\n",
    "\n",
    "# 將 GPIO_13、GPIO_19 設為 OutputDevice\n",
    "print('initail relay 不導通')\n",
    "relay_pin1 = 13\n",
    "relay_pin2 = 19\n",
    "relay1 = gpiozero.OutputDevice(relay_pin1, active_high=True, initial_value=False)\n",
    "relay2 = gpiozero.OutputDevice(relay_pin2, active_high=True, initial_value=False)\n",
    "\n",
    "relays = [relay1, relay2]\n",
    "\n",
    "# 定義導通的 relay\n",
    "def set_Relay_on(relay_n) :\n",
    "    for relay_ in relays :\n",
    "        if relay_n == relay_ :\n",
    "            relay_.on()\n",
    "        else :\n",
    "            relay_.off()\n",
    "\n",
    "# while loop迴圈，讓relay重複動作\n",
    "print('溫度 10 度以上到 20 度之間，控制 GPIO19，溫度 20 度到 30 度之間，控制 GPIO13')\n",
    "try :\n",
    "    while True :\n",
    "        humi, temp = Adafruit_DHT.read_retry(DHT_SENSOR, DHT_PIN)\n",
    "        if (humi is not None) and (temp is not None) :\n",
    "            temp -= 10\n",
    "            print('Temp={:.2f}_C Humidity={:.2f}_%'.format(temp, humi))\n",
    "            if (temp >= 10) and (temp < 20) :\n",
    "                set_Relay_on(relay2)\n",
    "            elif (temp >= 20) and (temp < 30) :\n",
    "                set_Relay_on(relay1) \n",
    "            time.sleep(3)\n",
    "        else :\n",
    "            print('Fail to retrieve data from humidity_temp sensor')\n",
    "except KeyboardInterrupt :\n",
    "    print('程式停止')\n",
    "    sys.exit()"
   ]
  },
  {
   "cell_type": "markdown",
   "metadata": {},
   "source": [
    "![DHT11_controll_GPIO](img/DHT11_controll_GPIO.png)"
   ]
  },
  {
   "cell_type": "code",
   "execution_count": null,
   "metadata": {},
   "outputs": [],
   "source": []
  }
 ],
 "metadata": {
  "kernelspec": {
   "display_name": "Python 3",
   "language": "python",
   "name": "python3"
  },
  "language_info": {
   "codemirror_mode": {
    "name": "ipython",
    "version": 3
   },
   "file_extension": ".py",
   "mimetype": "text/x-python",
   "name": "python",
   "nbconvert_exporter": "python",
   "pygments_lexer": "ipython3",
   "version": "3.7.3"
  }
 },
 "nbformat": 4,
 "nbformat_minor": 2
}
