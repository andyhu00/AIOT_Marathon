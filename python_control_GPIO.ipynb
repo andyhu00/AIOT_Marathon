{
 "cells": [
  {
   "cell_type": "markdown",
   "metadata": {},
   "source": [
    "### 作業1：\n",
    "#### 實際安裝 gpiozero，先安裝 RPi.GPIO，再安裝 pigpio，觀察安裝過程系統顯示的訊息。比較直接啟動 raspi-config 的 interfacing 選項，透過啟動 Remote GPIO，直接安裝GPIOZero"
   ]
  },
  {
   "cell_type": "markdown",
   "metadata": {},
   "source": [
    "![gpiozero_install](img/gpiozero_install.png)"
   ]
  },
  {
   "cell_type": "markdown",
   "metadata": {},
   "source": [
    "### 作業2：\n",
    "#### 實際練習 GPIOZero 控制 LED，確定單獨的 GPIO 控制 LED 亮跟暗交替閃爍完成，並且 PWM 控制 LED 明亮的完成後，嘗試依序改變led.value的值，分別設定 0.1, 0.3, 0.5, 0.7 觀察差異"
   ]
  },
  {
   "cell_type": "code",
   "execution_count": null,
   "metadata": {},
   "outputs": [],
   "source": [
    "# 匯入gpiozero套件套件\n",
    "from gpiozero import PWMLED\n",
    "import time\n",
    "\n",
    "# 使用rpi板子的GPIO編號，並啟動GPIO(default output=LOW)\n",
    "pwm = PWMLED(17)\n",
    "\n",
    "# PWM控制LED亮度 on、off\n",
    "pwm.value = 1\n",
    "time.sleep(3)\n",
    "pwm.value = 0\n",
    "time.sleep(3)\n",
    "\n",
    "# PWM控制LED亮度10%、30%、50%、70%\n",
    "pwm.value = 0.1\n",
    "time.sleep(3)\n",
    "pwm.value = 0.3\n",
    "time.sleep(3)\n",
    "pwm.value = 0.5\n",
    "time.sleep(3)\n",
    "pwm.value = 0.7\n",
    "time.sleep(3)"
   ]
  },
  {
   "cell_type": "markdown",
   "metadata": {},
   "source": [
    "### 作業3：\n",
    "#### 實際練習 GPIOZero 透過 Button 控制 LED，在按鈕的過程中，觀察實際按下按鈕的次數，LED 點亮的次數，是否一致。練習修改程式，讓按鈕按下是全亮，按鈕放開後是 30% 的亮度"
   ]
  },
  {
   "cell_type": "code",
   "execution_count": null,
   "metadata": {},
   "outputs": [],
   "source": [
    "# 匯入gpiozero套件套件\n",
    "from gpiozero import PWMLED, Button\n",
    "from signal import pause\n",
    "\n",
    "# 使用rpi板子的GPIO編號，並啟動GPIO_4(default output=LOW)\n",
    "pwm = PWMLED(4)\n",
    "# 使用rpi板子的GPIO編號，並啟動GPIO_26(default input=HIGH)\n",
    "button = Button(26)\n",
    "\n",
    "def pwm_100() :\n",
    "    print('brightness 100%')\n",
    "    pwm.value = 1.0\n",
    "\n",
    "def pwm_30() :\n",
    "    print('brightness 30%')\n",
    "    pwm.value = 0.3\n",
    "\n",
    "# 當按鈕按下時，觸發事件處理函式\n",
    "print('button trigger led')\n",
    "button.when_pressed = pwm_100\n",
    "button.when_released = pwm_30\n",
    "    \n",
    "pause()"
   ]
  }
 ],
 "metadata": {
  "kernelspec": {
   "display_name": "Python 3",
   "language": "python",
   "name": "python3"
  },
  "language_info": {
   "codemirror_mode": {
    "name": "ipython",
    "version": 3
   },
   "file_extension": ".py",
   "mimetype": "text/x-python",
   "name": "python",
   "nbconvert_exporter": "python",
   "pygments_lexer": "ipython3",
   "version": "3.7.3"
  }
 },
 "nbformat": 4,
 "nbformat_minor": 2
}
