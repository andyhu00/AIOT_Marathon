{
 "cells": [
  {
   "cell_type": "markdown",
   "metadata": {},
   "source": [
    "### 作業1：\n",
    "#### 使用 raspi-config 更改 root 的密碼，設定連線的無線基地台，開啟 ssh 伺服器，確定可以用遠端連線進入 pi"
   ]
  },
  {
   "cell_type": "markdown",
   "metadata": {},
   "source": [
    "### Ans：依以下界面進入系統操作"
   ]
  },
  {
   "cell_type": "markdown",
   "metadata": {},
   "source": [
    "![raspi_config_system](img/raspi_config_system.png)"
   ]
  },
  {
   "cell_type": "markdown",
   "metadata": {},
   "source": [
    "![raspi_config_system_wireless](img/raspi_config_system_wireless.png)"
   ]
  },
  {
   "cell_type": "markdown",
   "metadata": {},
   "source": [
    "![raspi_config_system_password](img/raspi_config_system_password.png)"
   ]
  },
  {
   "cell_type": "markdown",
   "metadata": {},
   "source": [
    "![raspi_config_interface](img/raspi_config_interface.png)"
   ]
  },
  {
   "cell_type": "markdown",
   "metadata": {},
   "source": [
    "![raspi_config_interface_ssh](img/raspi_config_interface_ssh.png)"
   ]
  },
  {
   "cell_type": "markdown",
   "metadata": {},
   "source": [
    "### 作業2：\n",
    "#### 切換至 /opt 路徑，建立一個 /opt/aiot 子目錄，切換至 /opt/aiot 子目錄，用 wget 指令下載一個網路上的檔案，下載完成後用 ls –al 指令，確定下載的檔案存在"
   ]
  },
  {
   "cell_type": "markdown",
   "metadata": {},
   "source": [
    "### Ans：\n",
    "1. cd /opt   # 切換至 /opt 路徑\n",
    "2. sudo mkdir aiot   # 建立一個 /opt/aiot 子目錄\n",
    "3. cd aiot   # 切換至 /opt/aiot 子目錄\n",
    "4. wget https://the.earth.li/~sgtatham/putty/latest/putty-0.74.tar.gz   # 下載 linux 版的 putty 軟體"
   ]
  },
  {
   "cell_type": "markdown",
   "metadata": {},
   "source": [
    "![wget_url](img/wget_url.png)"
   ]
  },
  {
   "cell_type": "markdown",
   "metadata": {},
   "source": [
    "### 作業3：\n",
    "#### 切換至/根目錄(指令: cd /)，壓縮 /opt 子目錄進行備份，使用 tar zcvf opt.tar.gz /opt，以及 bzip2 opt.tar.gz 壓縮成 bz2 格式，最後將 opt.tar.gz 用 tar zxvf opt.tar.gz 指令練習解壓，或者將 opt.tar.gz 解壓至 /tmp 之下，確定 /opt 子目錄有壓縮備份成功"
   ]
  },
  {
   "cell_type": "markdown",
   "metadata": {},
   "source": [
    "### Ans：\n",
    "1. cd /   # 切換至 /根目錄\n",
    "2. sudo tar zcvf opt.tar.gz /opt   # 壓縮 /opt 子目錄進行備份"
   ]
  },
  {
   "cell_type": "markdown",
   "metadata": {},
   "source": [
    "![tar_zcvf_opt_tar_gz](img/tar_zcvf_opt_tar_gz.png)"
   ]
  },
  {
   "cell_type": "markdown",
   "metadata": {},
   "source": [
    "### Ans：\n",
    "1. sudo mv opt.tar.gz ~/tmp   # 將壓縮檔移到 ~/tmp 之下\n",
    "1. cd ~/tmp   # 切換至 ~/tmp 路徑\n",
    "2. sudo tar zxvf opt.tar.gz   # 將 opt.tar.gz 解壓至 ~/tmp 之下"
   ]
  },
  {
   "cell_type": "markdown",
   "metadata": {},
   "source": [
    "![tar_zxvf_opt_tar_gz](img/tar_zxvf_opt_tar_gz.png)"
   ]
  },
  {
   "cell_type": "code",
   "execution_count": null,
   "metadata": {},
   "outputs": [],
   "source": []
  }
 ],
 "metadata": {
  "kernelspec": {
   "display_name": "Python 3",
   "language": "python",
   "name": "python3"
  },
  "language_info": {
   "codemirror_mode": {
    "name": "ipython",
    "version": 3
   },
   "file_extension": ".py",
   "mimetype": "text/x-python",
   "name": "python",
   "nbconvert_exporter": "python",
   "pygments_lexer": "ipython3",
   "version": "3.7.3"
  }
 },
 "nbformat": 4,
 "nbformat_minor": 2
}
