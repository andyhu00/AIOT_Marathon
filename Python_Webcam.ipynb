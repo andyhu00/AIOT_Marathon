{
 "cells": [
  {
   "cell_type": "markdown",
   "metadata": {},
   "source": [
    "### 作業1：\n",
    "#### 執行 lsusb -v 指令，觀察系統顯示的 usb 裝置，透過 grep “14 Video” 指令篩選顯示的結果，了解 webcam 裝置在系統層次支援的狀態"
   ]
  },
  {
   "cell_type": "markdown",
   "metadata": {},
   "source": [
    "### Ans：\n",
    "#### 如果有支援UVC裝置，則會輸出以下資訊：\n",
    "- bFunctionClass         14 Video\n",
    "- bInterfaceClass        14 Video"
   ]
  },
  {
   "cell_type": "markdown",
   "metadata": {},
   "source": [
    "![lsusb](img/lsusb.png)"
   ]
  },
  {
   "cell_type": "markdown",
   "metadata": {},
   "source": [
    "### 作業2：\n",
    "#### 安裝 fswebcam，執行 fswebcam 拍一張照片，確定 webcam 動作正常，並且透過更改參數與設定參數檔案的方式，執行 fswebcam，確定可以產生隨時間依序儲存的檔案"
   ]
  },
  {
   "cell_type": "markdown",
   "metadata": {},
   "source": [
    "### Ans：\n",
    "1. 執行 fswebcam 拍一張照片，確認可正常存成 webcam.jpg"
   ]
  },
  {
   "cell_type": "markdown",
   "metadata": {},
   "source": [
    "![fswebcam_capture1](img/fswebcam_capture1.png)"
   ]
  },
  {
   "cell_type": "markdown",
   "metadata": {},
   "source": [
    "### Ans：\n",
    "2. 設定參數檔案的方式，執行 fswebcam，確定可以產生隨時間依序儲存的檔案"
   ]
  },
  {
   "cell_type": "code",
   "execution_count": null,
   "metadata": {},
   "outputs": [],
   "source": [
    "# linux 以此指令執行 fs.conf 設定檔的內容\n",
    "$ fswebcam -c fs.conf\n",
    "\n",
    "# fs.conf 設定檔的內容：\n",
    "device /dev/video0 # 使用第一個 webcam\n",
    "loop 5 # 每隔5秒執行一次擷取\n",
    "skip 10 # 忽略前面 10 張不要使用\n",
    "resolution 640x480 # 擷取的解析度設定為 640x480\n",
    "no-banner # 不顯示標題\n",
    "save /home/pi/tmp/%Y-%m-%d_%H-%M-%S_webcam0.jpg # 儲存的檔案路徑與檔案名稱"
   ]
  },
  {
   "cell_type": "markdown",
   "metadata": {},
   "source": [
    "![fswebcam_fs_conf](img/fswebcam_fs_conf.png)"
   ]
  },
  {
   "cell_type": "markdown",
   "metadata": {},
   "source": [
    "### 作業3：\n",
    "#### 透過 python 呼叫 fswebcam，觀察 python 呼叫 fswebcam 執行外部參數的方式，並且練習更改 fswebcam 的參數檔案，不更動 python 程式碼的方式，儲存各種類型的拍照結果"
   ]
  },
  {
   "cell_type": "code",
   "execution_count": null,
   "metadata": {},
   "outputs": [],
   "source": [
    "# 使用 python 執行 fswebcam：\n",
    "# .py範例程式如下：\n",
    "import time \n",
    "import os\n",
    "\n",
    "# --no-banner => 照片不加上 banner\n",
    "# --jpeg 50 => 代表 jpg quality = 50 (數字越大，影像品質越好)\n",
    "# --save => 代表存檔 (--save可省略)\n",
    "while True :\n",
    "    os.system(\"fswebcam -r 640x480 -S 1 --no-banner -d /dev/video0 --jpeg 50 --save /home/pi/tmp/%Y-%m-%d_%H-%M-%S_webcam1.jpg\") \n",
    "    time.sleep(10)"
   ]
  }
 ],
 "metadata": {
  "kernelspec": {
   "display_name": "Python 3",
   "language": "python",
   "name": "python3"
  },
  "language_info": {
   "codemirror_mode": {
    "name": "ipython",
    "version": 3
   },
   "file_extension": ".py",
   "mimetype": "text/x-python",
   "name": "python",
   "nbconvert_exporter": "python",
   "pygments_lexer": "ipython3",
   "version": "3.7.3"
  }
 },
 "nbformat": 4,
 "nbformat_minor": 2
}
