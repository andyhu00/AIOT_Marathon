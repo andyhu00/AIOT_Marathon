{
 "cells": [
  {
   "cell_type": "markdown",
   "metadata": {},
   "source": [
    "### 1. 撰寫一個 Flask Web 應用程式，分別使用 Get / Post 來發送 Request，且能取得 Request 傳遞的參數"
   ]
  },
  {
   "cell_type": "markdown",
   "metadata": {},
   "source": [
    "#### 1.1 使用 Get 發送 Request："
   ]
  },
  {
   "cell_type": "code",
   "execution_count": null,
   "metadata": {},
   "outputs": [
    {
     "name": "stdout",
     "output_type": "stream",
     "text": [
      " * Serving Flask app \"__main__\" (lazy loading)\n",
      " * Environment: production\n",
      "   WARNING: Do not use the development server in a production environment.\n",
      "   Use a production WSGI server instead.\n",
      " * Debug mode: off\n"
     ]
    },
    {
     "name": "stderr",
     "output_type": "stream",
     "text": [
      " * Running on http://127.0.0.1:5000/ (Press CTRL+C to quit)\n",
      "127.0.0.1 - - [28/Jan/2021 15:55:55] \"\u001b[37mGET / HTTP/1.1\u001b[0m\" 200 -\n"
     ]
    }
   ],
   "source": [
    "# 引用 flask 需要的套件\n",
    "from flask import Flask, request\n",
    "app = Flask(__name__)\n",
    "\n",
    "# 設定網址的路由(網址的開頭是 '/'的 url)，及接受的 http method (預設是 GET)\n",
    "@app.route('/', methods = ['GET'])\n",
    "def index() : \n",
    "    return 'hello world !'\n",
    "\n",
    "if __name__ == '__main__' :\n",
    "    app.run()"
   ]
  },
  {
   "cell_type": "markdown",
   "metadata": {},
   "source": [
    "#### Postman 畫面說明\n",
    "1. 選擇 file -> new tab，建立一個 tab\n",
    "2. 選擇 GET -> localhost:5000\n",
    "3. 按右側 send\n",
    "4. 下方 Body 得到 response 的結果 "
   ]
  },
  {
   "cell_type": "markdown",
   "metadata": {},
   "source": [
    "![postman_get](img/postman_get.png)"
   ]
  },
  {
   "cell_type": "markdown",
   "metadata": {},
   "source": [
    "#### 1.2 使用 Post 取得參數資料："
   ]
  },
  {
   "cell_type": "code",
   "execution_count": null,
   "metadata": {},
   "outputs": [
    {
     "name": "stdout",
     "output_type": "stream",
     "text": [
      " * Serving Flask app \"__main__\" (lazy loading)\n",
      " * Environment: production\n",
      "   WARNING: Do not use the development server in a production environment.\n",
      "   Use a production WSGI server instead.\n",
      " * Debug mode: off\n"
     ]
    },
    {
     "name": "stderr",
     "output_type": "stream",
     "text": [
      " * Running on http://127.0.0.1:5000/ (Press CTRL+C to quit)\n",
      "127.0.0.1 - - [28/Jan/2021 16:19:02] \"\u001b[37mPOST / HTTP/1.1\u001b[0m\" 200 -\n"
     ]
    }
   ],
   "source": [
    "# 引用 flask 需要的套件\n",
    "from flask import Flask, request\n",
    "app = Flask(__name__)\n",
    "\n",
    "# 設定網址的路由(網址的開頭是 '/'的 url)，及接受的 http method (預設是 GET)\n",
    "@app.route('/', methods = ['POST'])\n",
    "def index() : \n",
    "    name = request.form.get('name') # 取得 name 參數 \n",
    "    passwd = request.form.get('passwd') # 取得 password 參數\n",
    "    return 'name: ' + name + ', passwd: ' + passwd\n",
    "\n",
    "if __name__ == '__main__' :\n",
    "    app.run()"
   ]
  },
  {
   "cell_type": "markdown",
   "metadata": {},
   "source": [
    "#### Postman 畫面說明\n",
    "1. 選擇 file -> new tab，建立一個 tab\n",
    "2. 選擇 POST -> localhost:5000\n",
    "3. 輸入 name 與 passwd 資料\n",
    "4. 按右側 send\n",
    "5. 下方 Body 得到 response 的結果 "
   ]
  },
  {
   "cell_type": "markdown",
   "metadata": {},
   "source": [
    "![postman_post](img/postman_post.png)"
   ]
  },
  {
   "cell_type": "markdown",
   "metadata": {},
   "source": [
    "### 2. 實作檔案上傳功能，並提供簡易畫面使其能透過畫面上傳檔案"
   ]
  },
  {
   "cell_type": "markdown",
   "metadata": {},
   "source": [
    "#### 2.1 使用 POST 上傳單一檔案"
   ]
  },
  {
   "cell_type": "code",
   "execution_count": null,
   "metadata": {},
   "outputs": [
    {
     "name": "stdout",
     "output_type": "stream",
     "text": [
      " * Serving Flask app \"__main__\" (lazy loading)\n",
      " * Environment: production\n",
      "   WARNING: Do not use the development server in a production environment.\n",
      "   Use a production WSGI server instead.\n",
      " * Debug mode: off\n"
     ]
    },
    {
     "name": "stderr",
     "output_type": "stream",
     "text": [
      " * Running on http://127.0.0.1:5000/ (Press CTRL+C to quit)\n",
      "127.0.0.1 - - [28/Jan/2021 16:35:03] \"\u001b[1m\u001b[31mPOST / HTTP/1.1\u001b[0m\" 400 -\n",
      "127.0.0.1 - - [28/Jan/2021 16:35:40] \"\u001b[37mPOST / HTTP/1.1\u001b[0m\" 200 -\n"
     ]
    }
   ],
   "source": [
    "# 引用 flask 需要的套件\n",
    "from flask import Flask, request\n",
    "app = Flask(__name__)\n",
    "\n",
    "# 設定網址的路由(網址的開頭是 '/'的 url)，及接受的 http method (預設是 GET)\n",
    "@app.route('/', methods = ['POST'])\n",
    "def index() :\n",
    "    file = request.files['file'] # 取得 request 的 file\n",
    "    file.save(file.filename) # 存檔，使用原來的檔名作為存檔的名稱\n",
    "    return file.filename # 回傳檔案名稱\n",
    "\n",
    "if __name__ == '__main__' :\n",
    "    app.run()"
   ]
  },
  {
   "cell_type": "markdown",
   "metadata": {},
   "source": [
    "#### Postman 畫面說明\n",
    "1. 選擇 file -> new tab，建立一個 tab\n",
    "2. 選擇 POST -> localhost:5000\n",
    "3. 輸入 file 資料\n",
    "4. 按右側 send\n",
    "5. 下方 Body 得到 response 的結果 "
   ]
  },
  {
   "cell_type": "markdown",
   "metadata": {},
   "source": [
    "![postman_post_file](img/postman_post_file.png)"
   ]
  },
  {
   "cell_type": "code",
   "execution_count": null,
   "metadata": {},
   "outputs": [],
   "source": []
  }
 ],
 "metadata": {
  "kernelspec": {
   "display_name": "Python 3",
   "language": "python",
   "name": "python3"
  },
  "language_info": {
   "codemirror_mode": {
    "name": "ipython",
    "version": 3
   },
   "file_extension": ".py",
   "mimetype": "text/x-python",
   "name": "python",
   "nbconvert_exporter": "python",
   "pygments_lexer": "ipython3",
   "version": "3.7.3"
  }
 },
 "nbformat": 4,
 "nbformat_minor": 2
}
