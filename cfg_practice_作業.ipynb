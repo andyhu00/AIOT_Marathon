{
 "cells": [
  {
   "cell_type": "markdown",
   "metadata": {
    "id": "YXubSej__exT"
   },
   "source": [
    "# 作業 : cfg_practice"
   ]
  },
  {
   "cell_type": "markdown",
   "metadata": {
    "id": "5pIkPDAH-n5I"
   },
   "source": [
    "## [作業目標]\n",
    "如何設定tiny-yolo cfg檔參數\n",
    "\n",
    "## [作業重點]\n",
    "classes和filters的數值是有相關的"
   ]
  },
  {
   "cell_type": "markdown",
   "metadata": {
    "id": "GoKgXP58AioN"
   },
   "source": [
    "### 作業1 : 作業1 : 請思考使用YOLO和tinyYOLO進行訓練時，他們之間需要調整的差異在哪裡?\n",
    "\n",
    "\n"
   ]
  },
  {
   "cell_type": "markdown",
   "metadata": {},
   "source": [
    "#### Answer：\n",
    "1. 使用不一樣的預訓練的權重檔(YOLO：darknet53.conv.74 ， tinyYOLO：yolov3-tiny.weights)\n",
    "2. 調整不一樣的cfg設定檔(YOLO：yolov3.cfg ， tinyYOLO：yolov3-tiny.cfg)"
   ]
  },
  {
   "cell_type": "code",
   "execution_count": null,
   "metadata": {},
   "outputs": [],
   "source": []
  },
  {
   "cell_type": "markdown",
   "metadata": {
    "id": "EwTYifhRAlmP"
   },
   "source": [
    "### 作業2 : 請實作當我們要訓練一個7個class的tiny_yolo時，要如何設定cfg檔?\n"
   ]
  },
  {
   "cell_type": "markdown",
   "metadata": {},
   "source": [
    "#### Answer：\n",
    "#### 1. 訓練前需調整cfg設定檔\n",
    "- classes=80@classes=7@，調整classes=7\n",
    "- 調整 filters = 36 (5 + class的數量)*3"
   ]
  },
  {
   "cell_type": "code",
   "execution_count": null,
   "metadata": {},
   "outputs": [],
   "source": [
    "!cp cfg/yolov3-tiny.cfg cfg/tiny_yolov3_training.cfg\n",
    "\n",
    "!sed -i 's/batch=1/batch=64/' cfg/tiny_yolov3_training.cfg\n",
    "!sed -i 's/subdivisions=1/subdivisions=16/' cfg/tiny_yolov3_training.cfg\n",
    "!sed -i 's/max_batches = 500200/max_batches = 4000/' cfg/tiny_yolov3_training.cfg\n",
    "!sed -i '135 s@classes=80@classes=7@' cfg/tiny_yolov3_training.cfg\n",
    "!sed -i '177 s@classes=80@classes=7@' cfg/tiny_yolov3_training.cfg\n",
    "!sed -i '127 s@filters=255@filters=36@' cfg/tiny_yolov3_training.cfg\n",
    "!sed -i '171 s@filters=255@filters=36@' cfg/tiny_yolov3_training.cfg"
   ]
  },
  {
   "cell_type": "markdown",
   "metadata": {},
   "source": [
    "#### Answer：\n",
    "#### 2. 訓練前需調整obj設定檔 * 2\n",
    "- obj.names調整各類別的名稱\n",
    "- classes從80改成7"
   ]
  },
  {
   "cell_type": "code",
   "execution_count": null,
   "metadata": {},
   "outputs": [],
   "source": [
    "!echo -e \"A\\nB\\nC\\nD\\nE\\nF\\nG\" > data/obj.names\n",
    "!echo -e 'classes= 7\\ntrain  = data/train.txt\\nvalid  = data/test.txt\\nnames = data/obj.names\\nbackup = /mydrive/tiny_yolov3' > data/obj.data\n"
   ]
  }
 ],
 "metadata": {
  "colab": {
   "name": "cfg_practice_作業.ipynb",
   "provenance": []
  },
  "kernelspec": {
   "display_name": "Python 3",
   "language": "python",
   "name": "python3"
  },
  "language_info": {
   "codemirror_mode": {
    "name": "ipython",
    "version": 3
   },
   "file_extension": ".py",
   "mimetype": "text/x-python",
   "name": "python",
   "nbconvert_exporter": "python",
   "pygments_lexer": "ipython3",
   "version": "3.7.3"
  }
 },
 "nbformat": 4,
 "nbformat_minor": 1
}
