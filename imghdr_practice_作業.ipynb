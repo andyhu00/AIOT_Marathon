{
 "cells": [
  {
   "cell_type": "markdown",
   "metadata": {
    "id": "YXubSej__exT"
   },
   "source": [
    "# 作業 : imghdr_practice"
   ]
  },
  {
   "cell_type": "markdown",
   "metadata": {
    "id": "5pIkPDAH-n5I"
   },
   "source": [
    "## [作業目標]\n",
    "學習如何使用imghdr函式庫檢查影像的格式\n",
    "\n",
    "## [作業重點]\n",
    "如果想要做一個自動化影像專案，自動檢查輸入的格式是很重要的，練習時對於副檔名需要仔細確認。\n"
   ]
  },
  {
   "cell_type": "markdown",
   "metadata": {
    "id": "GoKgXP58AioN"
   },
   "source": [
    "### 作業1 : 請思考使用原生程序和之前使用os.system指令進行操作，哪一種對你而言更方便?\n",
    "\n"
   ]
  },
  {
   "cell_type": "markdown",
   "metadata": {},
   "source": [
    "#### Answer：\n",
    "- 理論上使用原生的darknet.py會有很多參數可呼叫，會比使用os.system()方式方便一些。但因為無法import performDetect，所以目前使用原生程序會有問題，但仍可使用os.system()方式進行推論得到答案。"
   ]
  },
  {
   "cell_type": "markdown",
   "metadata": {
    "id": "EwTYifhRAlmP"
   },
   "source": [
    "### 作業2 : 請使用imghdr函式庫檢查下面連結提供的影像是否為png格式\n",
    "- 連結 https://i.imgur.com/hM6uFKZ.png\n",
    "- 提示: 用下列指令下載作業指定影像到colab上\n",
    "`!wget -O ./test.png https://i.imgur.com/hM6uFKZ.png`\n"
   ]
  },
  {
   "cell_type": "code",
   "execution_count": null,
   "metadata": {},
   "outputs": [],
   "source": [
    "import os \n",
    "import argparse \n",
    "import imghdr\n",
    "\n",
    "os.chdir('/home/pi/darknet')\n",
    "parser = argparse.ArgumentParser() \n",
    "parser.add_argument('img_abs_path') \n",
    "args = parser.parse_args() \n",
    "img_path = args.img_abs_path \n",
    "\n",
    "lis = ['jpeg', 'png', 'bmp'] # 檢測是否為這幾種圖片格式\n",
    "if imghdr.what(img_path) in lis:\n",
    "    print('image format ok')\n",
    "else:\n",
    "    print('image format fail')    "
   ]
  }
 ],
 "metadata": {
  "colab": {
   "name": "imghdr_practice_作業.ipynb",
   "provenance": []
  },
  "kernelspec": {
   "display_name": "Python 3",
   "language": "python",
   "name": "python3"
  },
  "language_info": {
   "codemirror_mode": {
    "name": "ipython",
    "version": 3
   },
   "file_extension": ".py",
   "mimetype": "text/x-python",
   "name": "python",
   "nbconvert_exporter": "python",
   "pygments_lexer": "ipython3",
   "version": "3.7.3"
  }
 },
 "nbformat": 4,
 "nbformat_minor": 1
}
