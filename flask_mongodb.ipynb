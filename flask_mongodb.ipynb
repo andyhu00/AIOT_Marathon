{
 "cells": [
  {
   "cell_type": "markdown",
   "metadata": {},
   "source": [
    "### 使用 Flask 撰寫一個會員系統，將會員資料存入 MongoDB，並提供 4 種 API 操作 MongoDB 中的資料，分別是新增、修改、刪除、查詢"
   ]
  },
  {
   "cell_type": "markdown",
   "metadata": {},
   "source": [
    "### 1. 查詢、新增、刪除、修改 mongo db "
   ]
  },
  {
   "cell_type": "code",
   "execution_count": null,
   "metadata": {},
   "outputs": [],
   "source": [
    "from flask import Flask, request, jsonify\n",
    "from flask_pymongo import PyMongo\n",
    "from bson.objectid import ObjectId\n",
    "\n",
    "# 建立 Flask 物件\n",
    "app = Flask(__name__)\n",
    "\n",
    "# 設定連線 mongo server 的資訊\n",
    "app.config['MONGO_URI'] = 'mongodb://localhost:27017/test' # mongo資料庫的位址 (test => db name)\n",
    "mongo = PyMongo(app) \n",
    "\n",
    "# 1.新增 mongo db 資料 \n",
    "@app.route('/members', methods = ['POST']) # 新增會員資料 (使用 POST)\n",
    "def insert_member() :\n",
    "    # 使用 postman 工具，在 form-data 填入以下的資料 \n",
    "    # 把 form 裡面的資料拿出來\n",
    "    name = request.form.get('name')  \n",
    "    gender = request.form.get('gender')\n",
    "    email = request.form.get('email')\n",
    "    \n",
    "    result = mongo.db.member.insert_one({'name':name, 'gender':gender, 'email':email})\n",
    "\n",
    "    return str(result.inserted_id)\n",
    "    # 把此新增id貼到網址localhost:5000/members/後面 =>回傳 json格式的新增資料\n",
    "\n",
    "# 2.查詢 mongo db 資料 =>\n",
    "@app.route('/members') # 取得所有會員資料 \n",
    "@app.route('/members/<id>', methods = ['GET']) # 只取得所有某會員資料\n",
    "def find_member(id=None) :\n",
    "    # 若沒有傳入 id，就取得所有會員資料\n",
    "    if id is None :\n",
    "        members = mongo.db.member.find() \n",
    "        result = []\n",
    "\n",
    "        for member in members :  \n",
    "            member['_id'] = str(member['_id']) # mongo回傳的 id 為 ObjectId 型別，需轉成 string 型別\n",
    "            result.append(member)\n",
    "\n",
    "        return jsonify(result) # 將結果轉為 json 格式並回傳 \n",
    "    \n",
    "    # 若有傳入 id，只取得此 id 會員資料\n",
    "    else :\n",
    "        result = mongo.db.member.find_one({'_id':ObjectId(id)}) \n",
    "\n",
    "        if result is not None :\n",
    "            result['_id'] = str(result['_id']) \n",
    "\n",
    "        return jsonify(result) # 將結果轉為 json 格式並回傳\n",
    "\n",
    "# 3.刪除 mongo db 資料 =>\n",
    "@app.route('/members/<id>', methods = ['DELETE']) # 使用 postman 工具，貼上一筆要刪除資料的 _id值\n",
    "def delete_member(id=None) :\n",
    "    result = 0\n",
    "    \n",
    "    # 確認是否有此會員\n",
    "    member = mongo.db.member.find_one({'_id':ObjectId(id)})\n",
    "\n",
    "    # 若有此會員，則刪除此筆資料\n",
    "    if member is not None :\n",
    "        del_result = mongo.db.member.delete_one(member)\n",
    "        result = del_result.deleted_count \n",
    "        \n",
    "    # 回傳刪除的資料筆數\n",
    "    return 'deleted data count: {}' .format(str(result))\n",
    "\n",
    "# 4.修改 mongo db 資料 => \n",
    "@app.route('/members/<id>', methods = ['PUT']) # 使用 postman 工具，貼上一筆要修改資料的 _id值\n",
    "def update_member(id=None) :\n",
    "    result = 0\n",
    "    \n",
    "    # 使用 postman 工具，在 form-data 填入以下的資料 \n",
    "    # 把 form 裡面的資料拿出來\n",
    "    name = request.form.get('name')  \n",
    "    gender = request.form.get('gender')\n",
    "    email = request.form.get('email')\n",
    "    \n",
    "    # 1.過濾條件 => 哪些資料要被修改\n",
    "    filter_ = {'_id':ObjectId(id)}\n",
    "    # 2.要改成什麼資料\n",
    "    update_ = {'$set':{'name':name, 'gender':gender, 'email':email}}\n",
    "    upd_result = mongo.db.member.update_one(filter_, update_)\n",
    "\n",
    "    # 若有此會員，則修改此筆資料\n",
    "    if upd_result is not None :\n",
    "        result = upd_result.modified_count \n",
    "     \n",
    "    # 回傳修改的資料筆數\n",
    "    return 'updated data count: {}' .format(str(result))\n",
    "    \n",
    "if __name__ == '__main__' :\n",
    "    # default 設定值 => app.run(host='127.0.0.1', port=5000)\n",
    "    app.run()"
   ]
  },
  {
   "cell_type": "code",
   "execution_count": null,
   "metadata": {},
   "outputs": [],
   "source": []
  },
  {
   "cell_type": "markdown",
   "metadata": {},
   "source": [
    "#### 1.1 打開 postman 新增 db 資料"
   ]
  },
  {
   "cell_type": "code",
   "execution_count": null,
   "metadata": {},
   "outputs": [],
   "source": [
    "# **在 test(db) 下新增一筆會員資料：\n",
    "\n",
    "1. postman -> my workspace -> new tab\n",
    "2. POST -> localhost:5000/members\n",
    "3. Body -> form-data -> 填上資料 -> send\n",
    "4. response -> (回傳為新增 _id 內容)"
   ]
  },
  {
   "cell_type": "markdown",
   "metadata": {},
   "source": [
    "![insert_db_members](img/insert_db_members.png)"
   ]
  },
  {
   "cell_type": "code",
   "execution_count": null,
   "metadata": {},
   "outputs": [],
   "source": [
    "# **查詢 test(db) 下新增的一筆會員資料：\n",
    "\n",
    "1. GET -> localhost:5000/members/ (新增資料的 _id值，貼在網址後面，再發送 request 網址) -> send  \n",
    "例：localhost:5000/members/601bc76ab34a87b4dc757280"
   ]
  },
  {
   "cell_type": "markdown",
   "metadata": {},
   "source": [
    "![insert_db_members_id](img/insert_db_members_id.png)"
   ]
  },
  {
   "cell_type": "markdown",
   "metadata": {},
   "source": [
    "#### 1.2 打開 postman 查詢 db 資料"
   ]
  },
  {
   "cell_type": "code",
   "execution_count": null,
   "metadata": {},
   "outputs": [],
   "source": [
    "# **查詢 test(db) 下的所有會員資料：\n",
    "\n",
    "1. postman -> my workspace -> new tab\n",
    "2. GET -> localhost:5000/members -> send  "
   ]
  },
  {
   "cell_type": "markdown",
   "metadata": {},
   "source": [
    "![find_db_members](img/find_db_members.png)"
   ]
  },
  {
   "cell_type": "code",
   "execution_count": null,
   "metadata": {},
   "outputs": [],
   "source": [
    "# **查詢 test(db) 下的某 id 會員資料：\n",
    "\n",
    "1. GET -> localhost:5000/members/ (選擇任意一筆資料 _id值，貼在網址後面，再發送 request 網址) -> send  \n",
    "例：localhost:5000/members/6014278203a07fa5e37dccbb"
   ]
  },
  {
   "cell_type": "markdown",
   "metadata": {},
   "source": [
    "![find_db_members_id](img/find_db_members_id.png)"
   ]
  },
  {
   "cell_type": "code",
   "execution_count": null,
   "metadata": {},
   "outputs": [],
   "source": []
  },
  {
   "cell_type": "markdown",
   "metadata": {},
   "source": [
    "#### 1.3 打開 postman 刪除 db 資料"
   ]
  },
  {
   "cell_type": "code",
   "execution_count": null,
   "metadata": {},
   "outputs": [],
   "source": [
    "# **在 test(db) 下刪除一筆會員資料：\n",
    "\n",
    "1. postman -> my workspace -> new tab\n",
    "2. DELETE -> localhost:5000/members/ (選擇任意一筆要刪除的 _id值，貼在網址後面，再發送 request 網址) -> send \n",
    "例：localhost:5000/members/601cb873eda3eb882a35270b\n",
    "3. response -> deleted data count: 1 (回傳要刪除資料的筆數)"
   ]
  },
  {
   "cell_type": "markdown",
   "metadata": {},
   "source": [
    "![delete_db_members_id](img/delete_db_members_id.png)"
   ]
  },
  {
   "cell_type": "markdown",
   "metadata": {},
   "source": [
    "#### 1.4 打開 postman 修改 db 資料"
   ]
  },
  {
   "cell_type": "code",
   "execution_count": null,
   "metadata": {},
   "outputs": [],
   "source": [
    "# **在 test(db) 下修改一筆會員資料：\n",
    "\n",
    "1. postman -> my workspace -> new tab\n",
    "2. PUT -> localhost:5000/members/ (選擇任意一筆要修改資料的 _id值，貼在網址後面) \n",
    "3. Body -> form-data -> 填上要修改的資料 -> send\n",
    "4. response -> updated data count: 1 (回傳要修改資料的筆數)"
   ]
  },
  {
   "cell_type": "markdown",
   "metadata": {},
   "source": [
    "![update_db_members_id](img/update_db_members_id.png)"
   ]
  },
  {
   "cell_type": "code",
   "execution_count": null,
   "metadata": {},
   "outputs": [],
   "source": []
  }
 ],
 "metadata": {
  "kernelspec": {
   "display_name": "Python 3",
   "language": "python",
   "name": "python3"
  },
  "language_info": {
   "codemirror_mode": {
    "name": "ipython",
    "version": 3
   },
   "file_extension": ".py",
   "mimetype": "text/x-python",
   "name": "python",
   "nbconvert_exporter": "python",
   "pygments_lexer": "ipython3",
   "version": "3.7.3"
  }
 },
 "nbformat": 4,
 "nbformat_minor": 2
}
