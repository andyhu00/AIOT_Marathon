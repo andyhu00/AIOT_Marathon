{
 "cells": [
  {
   "cell_type": "markdown",
   "metadata": {},
   "source": [
    "# 作業: 安裝MongoDB、Robo 3T 工具"
   ]
  },
  {
   "cell_type": "markdown",
   "metadata": {},
   "source": [
    "### [目標]\n",
    "* 成功安裝 Mongo資料庫及GUI工具(Robo 3T)\n",
    "* 能夠使用命令提示工具(cmd、terminal)操作Mongo資料\n",
    "* 能夠使用 Robo 3T 操作Mongo資料"
   ]
  },
  {
   "cell_type": "markdown",
   "metadata": {},
   "source": [
    "### [重點]\n",
    "* 了解 DB、Collection、Document 在 Mongo 中所代表的意義。\n",
    "- 1.Document：文檔是 MongoDB 中的資料基本單元，類似關聯式資料庫中的行 (row)。\n",
    "- 2.Collection：集合就是由一群文檔所組合而成，以關聯式資料庫來比喻可以看成是一個擁有動態模式的表 (Table)。\n",
    "- 3.db：等同於關聯式資料庫中的資料庫，資料庫中可以含有０個或多個集合。\n",
    "* 能夠手動對資料做增刪改查的操作。"
   ]
  },
  {
   "cell_type": "markdown",
   "metadata": {},
   "source": [
    "### [作業1]\n",
    "* 至以下網站下載 MongoDB 和 Robo 3T 工具，並成功運行。\n",
    "\n",
    "Mongo: https://www.mongodb.com/try/download/community\n",
    "\n",
    "Robo 3T: https://robomongo.org/"
   ]
  },
  {
   "cell_type": "markdown",
   "metadata": {},
   "source": [
    "### [作業2]\n",
    "* 分別使用命令提示工具、Robo 3T圖形介面工具，照以下步驟操作資料。\n",
    "\n",
    "\n",
    "1. 新增一個 DB 名稱自訂為 test。\n",
    "2. 在該 DB 中新增一個 Collection 名稱為 user\n",
    "3. 在 user Collection 中新增一筆會員資料，資料結構如下：\n",
    "    * name : andy\n",
    "    * gender：male\n",
    "    * email : \"andy@test.com\n",
    "4. 在該 DB 中新增一個 Collection 名稱為 collection\n",
    "5. 將user Collection 的 name 欄位改成 andy1\n",
    "\n",
    "\n",
    "`註: 請將作業結果截圖下來。`"
   ]
  },
  {
   "cell_type": "markdown",
   "metadata": {},
   "source": [
    "![db1](db1.png)"
   ]
  },
  {
   "cell_type": "code",
   "execution_count": null,
   "metadata": {},
   "outputs": [],
   "source": []
  }
 ],
 "metadata": {
  "kernelspec": {
   "display_name": "Python 3",
   "language": "python",
   "name": "python3"
  },
  "language_info": {
   "codemirror_mode": {
    "name": "ipython",
    "version": 3
   },
   "file_extension": ".py",
   "mimetype": "text/x-python",
   "name": "python",
   "nbconvert_exporter": "python",
   "pygments_lexer": "ipython3",
   "version": "3.7.3"
  }
 },
 "nbformat": 4,
 "nbformat_minor": 4
}
