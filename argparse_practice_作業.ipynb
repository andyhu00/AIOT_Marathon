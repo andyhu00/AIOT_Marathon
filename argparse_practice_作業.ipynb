{
 "cells": [
  {
   "cell_type": "markdown",
   "metadata": {
    "id": "YXubSej__exT"
   },
   "source": [
    "# 作業 : argparse_practice"
   ]
  },
  {
   "cell_type": "markdown",
   "metadata": {
    "id": "5pIkPDAH-n5I"
   },
   "source": [
    "## [作業目標]\n",
    "如何使用python argparse工具\n",
    "\n",
    "## [作業重點]\n",
    "透過argparse新增參數\n",
    "透過python執行程序時傳入正確參數"
   ]
  },
  {
   "cell_type": "markdown",
   "metadata": {
    "id": "GoKgXP58AioN"
   },
   "source": [
    "### 作業1 : 請問我們要使用ArgumentParser的哪一個方法來新增一個參數?\n",
    "\n"
   ]
  },
  {
   "cell_type": "markdown",
   "metadata": {},
   "source": [
    "#### Answer：\n",
    "1. parser = argparse.ArgumentParser() # 新增一個參數接收器\n",
    "2. parser.add_argument() # 使用 add_argument() 新增一個參數"
   ]
  },
  {
   "cell_type": "markdown",
   "metadata": {
    "id": "EwTYifhRAlmP"
   },
   "source": [
    "### 作業2 : 請創建一個argparse_practice.py檔，透過ArgumentParser指定要傳入\"-name\"、\"-ID\"兩個參數，並在使用python執行後得到以下結果:\n",
    "![](https://i.imgur.com/NBcgRMo.png)\n"
   ]
  },
  {
   "cell_type": "code",
   "execution_count": null,
   "metadata": {
    "scrolled": false
   },
   "outputs": [],
   "source": [
    "import argparse\n",
    "parser = argparse.ArgumentParser() # 新增一個參數接收器\n",
    "parser.add_argument('-name') # 在參數接收器內增加一個參數\n",
    "parser.add_argument('-id') \n",
    "\n",
    "args = parser.parse_args() # 參數接收器的實例\n",
    "\n",
    "print('My name: ', args.name) # 取出參數接收器的參數內容\n",
    "print('My id: ', args.id) "
   ]
  }
 ],
 "metadata": {
  "colab": {
   "name": "argparse_practice_作業.ipynb",
   "provenance": []
  },
  "kernelspec": {
   "display_name": "Python 3",
   "language": "python",
   "name": "python3"
  },
  "language_info": {
   "codemirror_mode": {
    "name": "ipython",
    "version": 3
   },
   "file_extension": ".py",
   "mimetype": "text/x-python",
   "name": "python",
   "nbconvert_exporter": "python",
   "pygments_lexer": "ipython3",
   "version": "3.7.3"
  }
 },
 "nbformat": 4,
 "nbformat_minor": 1
}
