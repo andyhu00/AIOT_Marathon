{
 "cells": [
  {
   "cell_type": "markdown",
   "metadata": {},
   "source": [
    "### 用 Docker 安裝 mongodb\n",
    "$ docker pull mongo"
   ]
  },
  {
   "cell_type": "markdown",
   "metadata": {},
   "source": [
    "### 使用以下指令來執行 mongo 容器\n",
    "###### docker run -d --name mongo_1 -p 27017:27017 mongo --auth \n",
    "###### =>可以通過主機 ip:27017 訪問mongo 的服務，--auth：需要密碼才能訪問容器服務。"
   ]
  },
  {
   "cell_type": "markdown",
   "metadata": {},
   "source": [
    "![run_mongo](img/run_mongo.png)"
   ]
  },
  {
   "cell_type": "markdown",
   "metadata": {},
   "source": [
    "### 使用 admin 資料庫，建立使用者的 user & password\n",
    "###### $ docker exec -it mongo_1 mongo admin \n",
    "###### 創建一個名為 andy1，密碼為 1234 的用戶：\n",
    "###### > db.createUser({user:'andy1', pwd:'1234', roles:[{role:'userAdminAnyDatabase', db:'admin'}, 'readWriteAnyDatabase']})\n",
    "###### > db.auth('andy1', '1234') \n",
    "###### => 如果回傳值是1，就代表認證密碼成功"
   ]
  },
  {
   "cell_type": "markdown",
   "metadata": {},
   "source": [
    "![mongo_create_usr](img/mongo_create_usr.png)"
   ]
  },
  {
   "cell_type": "markdown",
   "metadata": {},
   "source": [
    "### 使用 user & password，連線 mongodb \n",
    "### 進入資料庫，建立 collection 集合的資料\n",
    "###### $ docker exec -it mongo_1 bash\n",
    "###### # mongo --port 27017 -u \"andy1\" -p \"1234\" --authenticationDatabase \"admin\""
   ]
  },
  {
   "cell_type": "markdown",
   "metadata": {},
   "source": [
    "![connect_mongo](img/connect_mongo.png)"
   ]
  },
  {
   "cell_type": "code",
   "execution_count": null,
   "metadata": {},
   "outputs": [],
   "source": []
  }
 ],
 "metadata": {
  "kernelspec": {
   "display_name": "Python 3",
   "language": "python",
   "name": "python3"
  },
  "language_info": {
   "codemirror_mode": {
    "name": "ipython",
    "version": 3
   },
   "file_extension": ".py",
   "mimetype": "text/x-python",
   "name": "python",
   "nbconvert_exporter": "python",
   "pygments_lexer": "ipython3",
   "version": "3.7.3"
  }
 },
 "nbformat": 4,
 "nbformat_minor": 2
}
