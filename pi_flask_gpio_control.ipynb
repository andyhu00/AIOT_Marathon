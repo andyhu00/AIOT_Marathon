{
 "cells": [
  {
   "cell_type": "markdown",
   "metadata": {},
   "source": [
    "### 作業：利用GPIO 控制風扇\n",
    "在 raspberry pi 架設 flask web server，寫出利用 GPIO 控制風扇的程式碼，最後在瀏覽器操作控制風扇"
   ]
  },
  {
   "cell_type": "markdown",
   "metadata": {},
   "source": [
    "#### 1. 使用 RPi.GPIO 方式："
   ]
  },
  {
   "cell_type": "code",
   "execution_count": null,
   "metadata": {},
   "outputs": [],
   "source": [
    "# 匯入 flask 套件\n",
    "from flask import Flask\n",
    "\n",
    "# 匯入 RPi.GPIO 套件\n",
    "import RPi.GPIO as GPIO\n",
    "import time\n",
    "\n",
    "# 使用rpi板子的GPIO編號\n",
    "GPIO.setmode(GPIO.BCM)\n",
    "# set output=LOW\n",
    "fan_pin = 13\n",
    "GPIO.setup(fan_pin, GPIO.OUT) \n",
    "GPIO.output(fan_pin, 0)\n",
    "\n",
    "# 建立 Flask 物件\n",
    "app = Flask(__name__)\n",
    "\n",
    "@app.route('/')\n",
    "def index():\n",
    "    return 'fan control with flask RPi.GPIO ...'\n",
    "\n",
    "@app.route('/fan')\n",
    "def fan_control() : \n",
    "    # 使用rpi板子的GPIO編號\n",
    "    GPIO.setmode(GPIO.BCM)\n",
    "\n",
    "    # 將 GPIO_13 設為輸出模式\n",
    "    fan_pin = 13\n",
    "    GPIO.setup(fan_pin, GPIO.OUT) \n",
    "    GPIO.output(fan_pin, 0)\n",
    "    time.sleep(3)\n",
    "\n",
    "    # while loop迴圈，讓relay重複動作\n",
    "    while True:\n",
    "        GPIO.output(fan_pin, 1)\n",
    "        time.sleep(3)\n",
    "        GPIO.output(fan_pin, 0)\n",
    "        time.sleep(3)\n",
    "    # 清除使用的 GPIO 狀態\n",
    "    GPIO.cleanup()\n",
    "    \n",
    "if __name__ == '__main__' : \n",
    "    app.run(host='0.0.0.0', port=8080, debug=True) # 在瀏覽器輸入樹莓派的 ip 即可"
   ]
  },
  {
   "cell_type": "markdown",
   "metadata": {},
   "source": [
    "#### 2. 使用 gpiozero 方式："
   ]
  },
  {
   "cell_type": "code",
   "execution_count": null,
   "metadata": {},
   "outputs": [],
   "source": [
    "# 匯入 flask 套件\n",
    "from flask import Flask\n",
    "\n",
    "# 匯入 gpiozero 套件套件\n",
    "import gpiozero\n",
    "import time, sys\n",
    "\n",
    "# 建立 Flask 物件\n",
    "app = Flask(__name__)\n",
    "\n",
    "@app.route('/')\n",
    "def index():\n",
    "    return 'fan control with flask gpiozero ...'\n",
    "\n",
    "@app.route('/fan')\n",
    "def fan_control() : \n",
    "    fan_pin = 13\n",
    "    fan_relay = gpiozero.OutputDevice(fan_pin, active_high=True, initial_value=False)\n",
    "    time.sleep(3)\n",
    "\n",
    "    # while loop迴圈，讓relay重複動作\n",
    "    while True:\n",
    "        fan_relay.on()\n",
    "        time.sleep(3)\n",
    "        fan_relay.off()\n",
    "        time.sleep(3)\n",
    "\n",
    "if __name__ == '__main__' : \n",
    "    app.run(host='0.0.0.0', port=8080, debug=True) # 在瀏覽器輸入樹莓派的 ip 即可"
   ]
  },
  {
   "cell_type": "markdown",
   "metadata": {},
   "source": [
    "![pi_flask_gpio_control_fan](img/pi_flask_gpio_control_fan.png)"
   ]
  },
  {
   "cell_type": "code",
   "execution_count": null,
   "metadata": {},
   "outputs": [],
   "source": []
  }
 ],
 "metadata": {
  "kernelspec": {
   "display_name": "Python 3",
   "language": "python",
   "name": "python3"
  },
  "language_info": {
   "codemirror_mode": {
    "name": "ipython",
    "version": 3
   },
   "file_extension": ".py",
   "mimetype": "text/x-python",
   "name": "python",
   "nbconvert_exporter": "python",
   "pygments_lexer": "ipython3",
   "version": "3.7.3"
  }
 },
 "nbformat": 4,
 "nbformat_minor": 2
}
