{
 "cells": [
  {
   "cell_type": "markdown",
   "metadata": {},
   "source": [
    "### 作業1：\n",
    "#### 實際練習 /sys/class/gpio 啟動 gpio，設定 gpio 接腳的狀態，並且卸載所啟動的 gpio。同時觀察卸載之後的 gpio 接腳，繼續送設定狀態的資料，將會發生什麼樣的狀態"
   ]
  },
  {
   "cell_type": "markdown",
   "metadata": {},
   "source": [
    "### Ans：\n",
    "1. echo 4 > /sys/class/gpio/export   # 啟動 GPIO4\n",
    "2. echo out > /sys/class/gpio/gpio4/direction   # 設定 GPIO4 為輸出\n",
    "3. echo 1 > /sys/class/gpio/gpio4/value   # 設定 GPIO4 輸出值為 1 (HIGH)\n",
    "4. echo 0 > /sys/class/gpio/gpio4/value   # 設定 GPIO4 輸出值為 0 (LOW)\n",
    "5. echo 4 > /sys/class/gpio/unexport   # 卸載 GPIO4"
   ]
  },
  {
   "cell_type": "markdown",
   "metadata": {},
   "source": [
    "![sysfs_gpio4](img/sysfs_gpio4.png)"
   ]
  },
  {
   "cell_type": "markdown",
   "metadata": {},
   "source": [
    "### 作業2：\n",
    "#### 使用 raspi-config 啟動 i2c，觀察 gpio2 以及 gpio3 的變化，透過 /sys/kernel/debug/gpio 觀察改變的情形，嘗試重新做一次作業1，針對 gpio2 以及 gpio3 操作，觀察在 i2c 啟動的狀態下，gpio2 以及 gpio3 相對 gpio4 有何不同"
   ]
  },
  {
   "cell_type": "markdown",
   "metadata": {},
   "source": [
    "### Ans-1：\n",
    "1. I2C enable 後，透過 /sys/kernel/debug/gpio 觀察 GPIO2 & GPIO3 的初始狀況，與 I2C disable 時是相同狀況。"
   ]
  },
  {
   "cell_type": "markdown",
   "metadata": {},
   "source": [
    "![sysfs_i2c_disable_enable](img/sysfs_i2c_disable_enable.png)"
   ]
  },
  {
   "cell_type": "markdown",
   "metadata": {},
   "source": [
    "### Ans-2：\n",
    "2. I2C enable 後，將 GPIO2、GPIO3 啟動，並設定為輸出後，透過 /sys/kernel/debug/gpio 觀察 GPIO2 & GPIO3 仍是可以操控的狀況，與 I2C disable 時是相同狀況。"
   ]
  },
  {
   "cell_type": "markdown",
   "metadata": {},
   "source": [
    "![sysfs_i2c_gpio2_3_export](img/sysfs_i2c_gpio2_3_export.png)"
   ]
  },
  {
   "cell_type": "markdown",
   "metadata": {},
   "source": [
    "![sysfs_i2c_gpio2_3_debug](img/sysfs_i2c_gpio2_3_debug.png)"
   ]
  },
  {
   "cell_type": "markdown",
   "metadata": {},
   "source": [
    "### 作業3：\n",
    "#### 使用 raspi-config 啟動 spi，觀察 gpio 各接腳的變化狀態，嘗試將 spi 關閉之後，透過 /sys/kernel/debug/gpio，觀察可以使用 gpio 數量的變化情形"
   ]
  },
  {
   "cell_type": "markdown",
   "metadata": {},
   "source": [
    "### Ans-1：\n",
    "1. SPI enable 後，透過 /sys/kernel/debug/gpio 觀察 GPIO7 & GPIO8 的狀況，可看到這二個 pin 腳都被輸出為 HIGH 準位。\n",
    "2. SPI enable 後，GPIO7 & GPIO8 無法被啟動。 "
   ]
  },
  {
   "cell_type": "markdown",
   "metadata": {},
   "source": [
    "![sysfs_spi_enable](img/sysfs_spi_enable.png)"
   ]
  },
  {
   "cell_type": "markdown",
   "metadata": {},
   "source": [
    "![sysfs_spi_gpio7_8_cannot_export](img/sysfs_spi_gpio7_8_cannot_export.png)"
   ]
  },
  {
   "cell_type": "markdown",
   "metadata": {},
   "source": [
    "### Ans-2：\n",
    "1. SPI disable 後，透過 /sys/kernel/debug/gpio 觀察 GPIO7 & GPIO8 的狀況，可看到這二個 pin 腳已恢復為正常可操控的狀況。\n",
    "2. SPI disable 後，GPIO7 & GPIO8 已經可被啟動。 "
   ]
  },
  {
   "cell_type": "markdown",
   "metadata": {},
   "source": [
    "![sysfs_spi_disable](img/sysfs_spi_disable.png)"
   ]
  },
  {
   "cell_type": "markdown",
   "metadata": {},
   "source": [
    "![sysfs_spi_gpio7_8_can_export](img/sysfs_spi_gpio7_8_can_export.png)"
   ]
  },
  {
   "cell_type": "code",
   "execution_count": null,
   "metadata": {},
   "outputs": [],
   "source": []
  }
 ],
 "metadata": {
  "kernelspec": {
   "display_name": "Python 3",
   "language": "python",
   "name": "python3"
  },
  "language_info": {
   "codemirror_mode": {
    "name": "ipython",
    "version": 3
   },
   "file_extension": ".py",
   "mimetype": "text/x-python",
   "name": "python",
   "nbconvert_exporter": "python",
   "pygments_lexer": "ipython3",
   "version": "3.7.3"
  }
 },
 "nbformat": 4,
 "nbformat_minor": 2
}
