{
 "cells": [
  {
   "cell_type": "markdown",
   "metadata": {},
   "source": [
    "### 從 Docker Hub 取得一個含有 Python、Flask 的映像檔，執行容器，並且可以從瀏覽器看到執行結果"
   ]
  },
  {
   "cell_type": "code",
   "execution_count": null,
   "metadata": {},
   "outputs": [],
   "source": [
    "Docker指令如下：\n",
    "$ docker pull kurtliao/flask-demo # 下載 image kurtliao/flask-demo\n",
    "$ docker images # 檢查是否有下載 image kurtliao/flask-demo\n",
    "$ docker run -p 5000:5000 --name flask-app kurtliao/flask-demo # 建立 container name 為 flask-app，並執行 container\n",
    "$ docker ps –a # 查看 container id、container name"
   ]
  },
  {
   "cell_type": "markdown",
   "metadata": {},
   "source": [
    "### 建立 container name 為 flask-app，並執行 container\n",
    "![docker_run_flask](img/docker_run_flask.png)"
   ]
  },
  {
   "cell_type": "markdown",
   "metadata": {},
   "source": [
    "### flask 網頁\n",
    "![docker_run_http](img/docker_run_http.png)"
   ]
  },
  {
   "cell_type": "code",
   "execution_count": null,
   "metadata": {},
   "outputs": [],
   "source": []
  }
 ],
 "metadata": {
  "kernelspec": {
   "display_name": "Python 3",
   "language": "python",
   "name": "python3"
  },
  "language_info": {
   "codemirror_mode": {
    "name": "ipython",
    "version": 3
   },
   "file_extension": ".py",
   "mimetype": "text/x-python",
   "name": "python",
   "nbconvert_exporter": "python",
   "pygments_lexer": "ipython3",
   "version": "3.7.3"
  }
 },
 "nbformat": 4,
 "nbformat_minor": 2
}
