{
 "cells": [
  {
   "cell_type": "markdown",
   "metadata": {
    "id": "dX257JRyhewK"
   },
   "source": [
    "# 作業 : orange_of_tinyYOLOV3_training"
   ]
  },
  {
   "cell_type": "markdown",
   "metadata": {
    "id": "N1ldaRa0hiIh"
   },
   "source": [
    "## [作業目標]\n",
    "如何從標記開始，訓練自己的yolo模型\n",
    "\n",
    "## [作業重點]\n",
    "- 標記要選對格式\n",
    "- 要調整cfg檔\n",
    "- 推論的時候要傳入正確的參數"
   ]
  },
  {
   "cell_type": "markdown",
   "metadata": {
    "id": "5NzYlHOThyRh"
   },
   "source": [
    "### 作業1 : 請用手邊的水果(e.g. 橘子)做一個物件偵測模型。在課程簡報中有提供測試用的標註檔。"
   ]
  },
  {
   "cell_type": "markdown",
   "metadata": {},
   "source": [
    "#### Answer：\n",
    "#### 1. 使用 labelImg 標註橘子圖片，標註完成後，將 .jpg 與 .txt 放在 images 目錄內，並壓縮成 images.zip上傳到google drive "
   ]
  },
  {
   "cell_type": "markdown",
   "metadata": {},
   "source": [
    "#### Answer：\n",
    "#### 2. 訓練前需調整cfg設定檔\n",
    "- classes=80@classes=1@，調整classes=1\n",
    "- 調整 filters = 18 (5 + class的數量)*3"
   ]
  },
  {
   "cell_type": "code",
   "execution_count": null,
   "metadata": {},
   "outputs": [],
   "source": [
    "!cp cfg/yolov3-tiny.cfg cfg/tiny_yolov3_training.cfg\n",
    "\n",
    "!sed -i 's/batch=1/batch=64/' cfg/tiny_yolov3_training.cfg\n",
    "!sed -i 's/subdivisions=1/subdivisions=16/' cfg/tiny_yolov3_training.cfg\n",
    "!sed -i 's/max_batches = 500200/max_batches = 4000/' cfg/tiny_yolov3_training.cfg\n",
    "!sed -i '135 s@classes=80@classes=1@' cfg/tiny_yolov3_training.cfg\n",
    "!sed -i '177 s@classes=80@classes=1@' cfg/tiny_yolov3_training.cfg\n",
    "!sed -i '127 s@filters=255@filters=18@' cfg/tiny_yolov3_training.cfg\n",
    "!sed -i '171 s@filters=255@filters=18@' cfg/tiny_yolov3_training.cfg"
   ]
  },
  {
   "cell_type": "markdown",
   "metadata": {},
   "source": [
    "#### Answer：\n",
    "#### 3. 訓練前需調整obj設定檔 * 2\n",
    "- obj.names調整各類別的名稱\n",
    "- classes從80改成1"
   ]
  },
  {
   "cell_type": "code",
   "execution_count": null,
   "metadata": {},
   "outputs": [],
   "source": [
    "!echo -e \"orange\" > data/obj.names\n",
    "!echo -e 'classes= 1\\ntrain  = data/train.txt\\nvalid  = data/test.txt\\nnames = data/obj.names\\nbackup = /mydrive/tiny_yolov3' > data/obj.data\n"
   ]
  },
  {
   "cell_type": "markdown",
   "metadata": {},
   "source": [
    "#### Answer：\n",
    "#### 4. 執行訓練與推論程序"
   ]
  },
  {
   "cell_type": "code",
   "execution_count": null,
   "metadata": {},
   "outputs": [],
   "source": [
    "# 訓練模型\n",
    "!./darknet detector train data/obj.data cfg/tiny_yolov3_training.cfg yolov3-tiny.weights -clear -dont_show\n"
   ]
  },
  {
   "cell_type": "code",
   "execution_count": null,
   "metadata": {},
   "outputs": [],
   "source": [
    "%cd /content/darknet \n",
    "!mkdir -p /content/gdrive/My\\ Drive/tiny_yolov3/inference_config_file\n",
    "!cp -f /content/darknet/data/obj.names /content/gdrive/My\\ Drive/tiny_yolov3/inference_config_file\n",
    "!cp -f /content/darknet/data/obj.data /content/gdrive/My\\ Drive/tiny_yolov3/inference_config_file\n",
    "!cp -f /content/gdrive/My\\ Drive/tiny_yolov3/tiny_yolov3_training_last.weights /content/gdrive/My\\ Drive/tiny_yolov3/inference_config_file\n",
    "!cp -f /content/darknet/cfg/tiny_yolov3_training.cfg /content/gdrive/My\\ Drive/tiny_yolov3/inference_config_file"
   ]
  },
  {
   "cell_type": "code",
   "execution_count": null,
   "metadata": {},
   "outputs": [],
   "source": [
    "# 檢測圖片\n",
    "!./darknet detector test ./data/obj.data ./cfg/tiny_yolov3_training.cfg /content/gdrive/My\\ Drive/tiny_yolov3/tiny_yolov3_training_last.weights ./test.jpg"
   ]
  },
  {
   "cell_type": "markdown",
   "metadata": {},
   "source": [
    "![predictions.jpg](predictions.jpg)"
   ]
  },
  {
   "cell_type": "code",
   "execution_count": null,
   "metadata": {},
   "outputs": [],
   "source": []
  }
 ],
 "metadata": {
  "accelerator": "GPU",
  "colab": {
   "collapsed_sections": [],
   "name": "orange_of_tinyYOLOV3_training_作業.ipynb",
   "provenance": []
  },
  "kernelspec": {
   "display_name": "Python 3",
   "language": "python",
   "name": "python3"
  },
  "language_info": {
   "codemirror_mode": {
    "name": "ipython",
    "version": 3
   },
   "file_extension": ".py",
   "mimetype": "text/x-python",
   "name": "python",
   "nbconvert_exporter": "python",
   "pygments_lexer": "ipython3",
   "version": "3.7.3"
  }
 },
 "nbformat": 4,
 "nbformat_minor": 1
}
